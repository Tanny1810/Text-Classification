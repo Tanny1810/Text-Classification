{
 "cells": [
  {
   "cell_type": "markdown",
   "id": "aee4e181",
   "metadata": {},
   "source": [
    "# Text-Classification"
   ]
  },
  {
   "cell_type": "markdown",
   "id": "82ce806d",
   "metadata": {},
   "source": [
    "## Import Libraries"
   ]
  },
  {
   "cell_type": "code",
   "execution_count": 100,
   "id": "56f29aff",
   "metadata": {
    "ExecuteTime": {
     "end_time": "2022-02-10T17:30:07.754088Z",
     "start_time": "2022-02-10T17:30:07.739084Z"
    }
   },
   "outputs": [],
   "source": [
    "import tensorflow as tf\n",
    "import numpy as np\n",
    "import string\n",
    "import re\n",
    "from keras.layers import TextVectorization\n",
    "from keras.layers import Input, Embedding, Dropout, Dense\n",
    "from keras.layers import Conv1D, GlobalMaxPooling1D\n",
    "from keras import Model\n",
    "import matplotlib.pyplot as plt"
   ]
  },
  {
   "cell_type": "markdown",
   "id": "d4077072",
   "metadata": {},
   "source": [
    "## Load Data"
   ]
  },
  {
   "cell_type": "markdown",
   "id": "1ef09e7f",
   "metadata": {},
   "source": [
    "### Download Data"
   ]
  },
  {
   "cell_type": "code",
   "execution_count": 2,
   "id": "9ef0d4d7",
   "metadata": {
    "ExecuteTime": {
     "end_time": "2022-02-10T16:45:55.545954Z",
     "start_time": "2022-02-10T16:45:15.286804Z"
    }
   },
   "outputs": [
    {
     "name": "stderr",
     "output_type": "stream",
     "text": [
      "  % Total    % Received % Xferd  Average Speed   Time    Time     Time  Current\n",
      "                                 Dload  Upload   Total   Spent    Left  Speed\n",
      "\n",
      "  0     0    0     0    0     0      0      0 --:--:-- --:--:-- --:--:--     0\n",
      "  0 80.2M    0     0    0     0      0      0 --:--:--  0:00:01 --:--:--     0\n",
      "  0 80.2M    0 81920    0     0  40544      0  0:34:34  0:00:02  0:34:32 40574\n",
      "  0 80.2M    0  368k    0     0   121k      0  0:11:14  0:00:03  0:11:11  121k\n",
      "  1 80.2M    1 1456k    0     0   358k      0  0:03:48  0:00:04  0:03:44  358k\n",
      "  6 80.2M    6 5536k    0     0  1090k      0  0:01:15  0:00:05  0:01:10 1090k\n",
      " 17 80.2M   17 14.2M    0     0  2394k      0  0:00:34  0:00:06  0:00:28 2876k\n",
      " 32 80.2M   32 25.7M    0     0  3771k      0  0:00:21  0:00:06  0:00:15 5289k\n",
      " 47 80.2M   47 37.7M    0     0  4814k      0  0:00:17  0:00:08  0:00:09 7648k\n",
      " 64 80.2M   64 51.4M    0     0  5770k      0  0:00:14  0:00:09  0:00:05  9.8M\n",
      " 76 80.2M   76 61.7M    0     0  6329k      0  0:00:12  0:00:09  0:00:03 11.4M\n",
      " 94 80.2M   94 75.8M    0     0  6987k      0  0:00:11  0:00:11 --:--:-- 12.2M\n",
      "100 80.2M  100 80.2M    0     0  7193k      0  0:00:11  0:00:11 --:--:-- 12.2M\n"
     ]
    }
   ],
   "source": [
    "## IMDB sentiment classification dataset\n",
    "!curl -O https://ai.stanford.edu/~amaas/data/sentiment/aclImdb_v1.tar.gz\n",
    "!tar -xf aclImdb_v1.tar.gz"
   ]
  },
  {
   "cell_type": "markdown",
   "id": "e5a52660",
   "metadata": {},
   "source": [
    "### Data Split"
   ]
  },
  {
   "cell_type": "code",
   "execution_count": 79,
   "id": "bdcadfc6",
   "metadata": {
    "ExecuteTime": {
     "end_time": "2022-02-10T17:20:45.586915Z",
     "start_time": "2022-02-10T17:20:43.547433Z"
    }
   },
   "outputs": [
    {
     "name": "stdout",
     "output_type": "stream",
     "text": [
      "Found 25000 files belonging to 2 classes.\n",
      "Using 20000 files for training.\n",
      "Found 25000 files belonging to 2 classes.\n",
      "Using 5000 files for validation.\n",
      "Found 25000 files belonging to 2 classes.\n"
     ]
    }
   ],
   "source": [
    "batch_size = 64\n",
    "validation_split = 0.2\n",
    "\n",
    "## train data\n",
    "raw_train_ds = tf.keras.utils.text_dataset_from_directory(r\"aclImdb\\train\", \n",
    "                                                          batch_size = batch_size, \n",
    "                                                          validation_split = validation_split, \n",
    "                                                          subset ='training', \n",
    "                                                          seed = 1337)\n",
    "\n",
    "## validation data\n",
    "raw_val_ds = tf.keras.utils.text_dataset_from_directory(r\"aclImdb\\train\", \n",
    "                                                        batch_size = batch_size, \n",
    "                                                        validation_split = validation_split, \n",
    "                                                        subset = 'validation', \n",
    "                                                        seed = 1337)\n",
    "\n",
    "## test data\n",
    "raw_test_ds = tf.keras.utils.text_dataset_from_directory(r\"aclImdb\\test\", \n",
    "                                                         batch_size = batch_size)"
   ]
  },
  {
   "cell_type": "markdown",
   "id": "04179f79",
   "metadata": {},
   "source": [
    "### sample"
   ]
  },
  {
   "cell_type": "code",
   "execution_count": 80,
   "id": "c58e7574",
   "metadata": {
    "ExecuteTime": {
     "end_time": "2022-02-10T17:20:47.071256Z",
     "start_time": "2022-02-10T17:20:46.988237Z"
    }
   },
   "outputs": [
    {
     "name": "stdout",
     "output_type": "stream",
     "text": [
      "b'I\\'ve seen tons of science fiction from the 70s; some horrendously bad, and others thought provoking and truly frightening. Soylent Green fits into the latter category. Yes, at times it\\'s a little campy, and yes, the furniture is good for a giggle or two, but some of the film seems awfully prescient. Here we have a film, 9 years before Blade Runner, that dares to imagine the future as somthing dark, scary, and nihilistic. Both Charlton Heston and Edward G. Robinson fare far better in this than The Ten Commandments, and Robinson\\'s assisted-suicide scene is creepily prescient of Kevorkian and his ilk. Some of the attitudes are dated (can you imagine a filmmaker getting away with the \"women as furniture\" concept in our oh-so-politically-correct-90s?), but it\\'s rare to find a film from the Me Decade that actually can make you think. This is one I\\'d love to see on the big screen, because even in a widescreen presentation, I don\\'t think the overall scope of this film would receive its due. Check it out.'\n",
      "1\n",
      "b'First than anything, I\\'m not going to praise I\\xc3\\xb1arritu\\'s short film, even I\\'m Mexican and proud of his success in mainstream Hollywood.<br /><br />In another hand, I see most of the reviews focuses on their favorite (and not so) short films; but we are forgetting that there is a subtle bottom line that circles the whole compilation, and maybe it will not be so pleasant for American people. (Even if that was not the main purpose of the producers) <br /><br />What i\\'m talking about is that most of the short films does not show the suffering that WASP people went through because the terrorist attack on September 11th, but the suffering of the Other people.<br /><br />Do you need proofs about what i\\'m saying? Look, in the Bosnia short film, the message is: \"You cry because of the people who died in the Towers, but we (The Others = East Europeans) are crying long ago for the crimes committed against our women and nobody pay attention to us like the whole world has done to you\".<br /><br />Even though the Burkina Fasso story is more in comedy, there is a the same thought: \"You are angry because Osama Bin Laden punched you in an evil way, but we (The Others = Africans) should be more angry, because our people is dying of hunger, poverty and AIDS long time ago, and nobody pay attention to us like the whole world has done to you\".<br /><br />Look now at the Sean Penn short: The fall of the Twin Towers makes happy to a lonely (and alienated) man. So the message is that the Power and the Greed (symbolized by the Towers) must fall for letting the people see the sun rise and the flowers blossom? It is remarkable that this terrible bottom line has been proposed by an American. There is so much irony in this short film that it is close to be subversive.<br /><br />Well, the Ken Loach (very know because his anti-capitalism ideology) is much more clearly and shameless in going straight to the point: \"You are angry because your country has been attacked by evil forces, but we (The Others = Latin Americans) suffered at a similar date something worst, and nobody remembers our grief as the whole world has done to you\".<br /><br />It is like if the creative of this project wanted to say to Americans: \"You see now, America? You are not the only that have become victim of the world violence, you are not alone in your pain and by the way, we (the Others = the Non Americans) have been suffering a lot more than you from long time ago; so, we are in solidarity with you in your pain... and by the way, we are sorry because you have had some taste of your own medicine\" Only the Mexican and the French short films showed some compassion and sympathy for American people; the others are like a slap on the face for the American State, that is not equal to American People.'\n",
      "1\n",
      "b'Blood Castle (aka Scream of the Demon Lover, Altar of Blood, Ivanna--the best, but least exploitation cinema-sounding title, and so on) is a very traditional Gothic Romance film. That means that it has big, creepy castles, a headstrong young woman, a mysterious older man, hints of horror and the supernatural, and romance elements in the contemporary sense of that genre term. It also means that it is very deliberately paced, and that the film will work best for horror mavens who are big fans of understatement. If you love films like Robert Wise\\'s The Haunting (1963), but you also have a taste for late 1960s/early 1970s Spanish and Italian horror, you may love Blood Castle, as well.<br /><br />Baron Janos Dalmar (Carlos Quiney) lives in a large castle on the outskirts of a traditional, unspecified European village. The locals fear him because legend has it that whenever he beds a woman, she soon after ends up dead--the consensus is that he sets his ferocious dogs on them. This is quite a problem because the Baron has a very healthy appetite for women. At the beginning of the film, yet another woman has turned up dead and mutilated.<br /><br />Meanwhile, Dr. Ivanna Rakowsky (Erna Sch\\xc3\\xbcrer) has appeared in the center of the village, asking to be taken to Baron Dalmar\\'s castle. She\\'s an out-of-towner who has been hired by the Baron for her expertise in chemistry. Of course, no one wants to go near the castle. Finally, Ivanna finds a shady individual (who becomes even shadier) to take her. Once there, an odd woman who lives in the castle, Olga (Cristiana Galloni), rejects Ivanna and says that she shouldn\\'t be there since she\\'s a woman. Baron Dalmar vacillates over whether she should stay. She ends up staying, but somewhat reluctantly. The Baron has hired her to try to reverse the effects of severe burns, which the Baron\\'s brother, Igor, is suffering from.<br /><br />Unfortunately, the Baron\\'s brother appears to be just a lump of decomposing flesh in a vat of bizarre, blackish liquid. And furthermore, Ivanna is having bizarre, hallucinatory dreams. Just what is going on at the castle? Is the Baron responsible for the crimes? Is he insane? <br /><br />I wanted to like Blood Castle more than I did. As I mentioned, the film is very deliberate in its pacing, and most of it is very understated. I can go either way on material like that. I don\\'t care for The Haunting (yes, I\\'m in a very small minority there), but I\\'m a big fan of 1960s and 1970s European horror. One of my favorite directors is Mario Bava. I also love Dario Argento\\'s work from that period. But occasionally, Blood Castle moved a bit too slow for me at times. There are large chunks that amount to scenes of not very exciting talking alternated with scenes of Ivanna slowly walking the corridors of the castle.<br /><br />But the atmosphere of the film is decent. Director Jos\\xc3\\xa9 Luis Merino managed more than passable sets and locations, and they\\'re shot fairly well by Emanuele Di Cola. However, Blood Castle feels relatively low budget, and this is a Roger Corman-produced film, after all (which usually means a low-budget, though often surprisingly high quality \"quickie\"). So while there is a hint of the lushness of Bava\\'s colors and complex set decoration, everything is much more minimalist. Of course, it doesn\\'t help that the Retromedia print I watched looks like a 30-year old photograph that\\'s been left out in the sun too long. It appears \"washed out\", with compromised contrast.<br /><br />Still, Merino and Di Cola occasionally set up fantastic visuals. For example, a scene of Ivanna walking in a darkened hallway that\\'s shot from an exaggerated angle, and where an important plot element is revealed through shadows on a wall only. There are also a couple Ingmar Bergmanesque shots, where actors are exquisitely blocked to imply complex relationships, besides just being visually attractive and pulling your eye deep into the frame.<br /><br />The performances are fairly good, and the women--especially Sch\\xc3\\xbcrer--are very attractive. Merino exploits this fact by incorporating a decent amount of nudity. Sch\\xc3\\xbcrer went on to do a number of films that were as much soft corn porn as they were other genres, with English titles such as Sex Life in a Woman\\'s Prison (1974), Naked and Lustful (1974), Strip Nude for Your Killer (1975) and Erotic Exploits of a Sexy Seducer (1977). Blood Castle is much tamer, but in addition to the nudity, there are still mild scenes suggesting rape and bondage, and of course the scenes mixing sex and death.<br /><br />The primary attraction here, though, is probably the story, which is much a slow-burning romance as anything else. The horror elements, the mystery elements, and a somewhat unexpected twist near the end are bonuses, but in the end, Blood Castle is a love story, about a couple overcoming various difficulties and antagonisms (often with physical threats or harms) to be together.'\n",
      "1\n",
      "b\"Halloween is one of the best examples of independent film. It's very well made and has more psychological elements to it than you might realize at first glance. It is a simple movie told very well. The music is perfect and is one of the most haunting scores... If you haven't seen this movie yet, you must check it out. The cast is all terrific. I wish they had never made sequel after sequel. The first one was by far the best and should have ended like it did without having a sequel. It was fun to see Jamie Lee Curtis in the movie. She hasn't seemed to age (she's just as gorgeous today, without the hairdo and seventies clothes). The scenes through the mask are one of the scariest things ever!\"\n",
      "1\n",
      "b\"Michelle Rodriguez is the defining actress who could be the charging force for other actresses to look out for. She has the audacity to place herself in a rarely seen tough-girl role very early in her career (and pull it off), which is a feat that should be recognized. Although her later films pigeonhole her to that same role, this film was made for her ruggedness.<br /><br />Her character is a romanticized student/fighter/lover, struggling to overcome her disenchanted existence in the projects, which is a little overdone in film...but not by a girl. That aspect of this film isn't very original, but the story goes in depth when the heated relationships that this girl has to deal with come to a boil and her primal rage takes over.<br /><br />I haven't seen an actress take such an aggressive stance in movie-making yet, and I'm glad that she's getting that original twist out there in Hollywood. This film got a 7 from me because of the average story of ghetto youth, but it has such a great actress portraying a rarely-seen role in a minimal budget movie. Great work.\"\n",
      "1\n"
     ]
    }
   ],
   "source": [
    "## display data\n",
    "for text_batch, label_batch in raw_train_ds.take(1):\n",
    "    for i in range(5):\n",
    "        print(text_batch.numpy()[i])\n",
    "        print(label_batch.numpy()[i])"
   ]
  },
  {
   "cell_type": "markdown",
   "id": "4167818b",
   "metadata": {},
   "source": [
    "### Prepare Data"
   ]
  },
  {
   "cell_type": "code",
   "execution_count": 81,
   "id": "4ab94ba0",
   "metadata": {
    "ExecuteTime": {
     "end_time": "2022-02-10T17:20:47.565370Z",
     "start_time": "2022-02-10T17:20:47.550367Z"
    }
   },
   "outputs": [],
   "source": [
    "## remove <br> tags\n",
    "def custom_standardization(input_data):\n",
    "    lowercase = tf.strings.lower(input_data)\n",
    "    stripped_html = tf.strings.regex_replace(lowercase, \"<br />\", \" \")\n",
    "    return tf.strings.regex_replace(stripped_html, f\"[{re.escape(string.punctuation)}]\", \"\")"
   ]
  },
  {
   "cell_type": "code",
   "execution_count": 82,
   "id": "a8ed07e5",
   "metadata": {
    "ExecuteTime": {
     "end_time": "2022-02-10T17:20:51.126191Z",
     "start_time": "2022-02-10T17:20:47.865439Z"
    }
   },
   "outputs": [],
   "source": [
    "max_features = 2000\n",
    "embedding_dim = 128\n",
    "sequence_length = 500\n",
    "\n",
    "## vectorizing layer [normalize, split, map strings to integers]\n",
    "vectorize_layer = TextVectorization(standardize = custom_standardization, \n",
    "                                     max_tokens = max_features, \n",
    "                                     output_mode = \"int\", \n",
    "                                     output_sequence_length = sequence_length)\n",
    "## text only dataset\n",
    "text_ds = raw_train_ds.map(lambda x, y:x)\n",
    "vectorize_layer.adapt(text_ds)"
   ]
  },
  {
   "cell_type": "code",
   "execution_count": 83,
   "id": "a69f0401",
   "metadata": {
    "ExecuteTime": {
     "end_time": "2022-02-10T17:20:51.190205Z",
     "start_time": "2022-02-10T17:20:51.175201Z"
    }
   },
   "outputs": [],
   "source": [
    "# vectorize data\n",
    "def vectorize_text(text, label):\n",
    "    text = tf.expand_dims(text, -1)\n",
    "    return vectorize_layer(text), label\n",
    "    "
   ]
  },
  {
   "cell_type": "code",
   "execution_count": 84,
   "id": "2f38ed9a",
   "metadata": {
    "ExecuteTime": {
     "end_time": "2022-02-10T17:20:51.318235Z",
     "start_time": "2022-02-10T17:20:51.239217Z"
    }
   },
   "outputs": [],
   "source": [
    "## vectorize data\n",
    "train_ds = raw_train_ds.map(vectorize_text)\n",
    "val_ds = raw_val_ds.map(vectorize_text)\n",
    "test_ds = raw_test_ds.map(vectorize_text)\n",
    "\n",
    "## async prefetching / buffering\n",
    "train_ds = train_ds.cache().prefetch(buffer_size=10)\n",
    "val_ds = val_ds.cache().prefetch(buffer_size=10)\n",
    "test_ds = test_ds.cache().prefetch(buffer_size=10)"
   ]
  },
  {
   "cell_type": "markdown",
   "id": "a76b4493",
   "metadata": {},
   "source": [
    "## Model"
   ]
  },
  {
   "cell_type": "code",
   "execution_count": 104,
   "id": "6861398b",
   "metadata": {
    "ExecuteTime": {
     "end_time": "2022-02-10T17:30:56.726375Z",
     "start_time": "2022-02-10T17:30:56.663361Z"
    }
   },
   "outputs": [],
   "source": [
    "inputs = Input(shape = (None,), dtype = \"int64\")\n",
    "\n",
    "x = Embedding(max_features, embedding_dim)(inputs)\n",
    "x = Dropout(0.6)(x)\n",
    "\n",
    "x = Conv1D(128, 7, padding='valid', activation='relu', strides=3)(x)\n",
    "x = Conv1D(128, 7, padding='valid', activation='relu', strides=3)(x)\n",
    "x = Dense(128, activation='relu')(x)\n",
    "x = Conv1D(128, 7, padding='valid', activation='relu', strides=3)(x)\n",
    "x = Conv1D(128, 7, padding='valid', activation='relu', strides=3)(x)\n",
    "x = GlobalMaxPooling1D()(x)\n",
    "x = Dense(128, activation='relu')(x)\n",
    "x = Dropout(0.6)(x)\n",
    "\n",
    "predictions = Dense(1, activation = 'sigmoid', name = 'predictions')(x)\n",
    "model = Model(inputs, predictions)\n",
    "\n",
    "model.compile(loss = 'binary_crossentropy', optimizer = 'adam', metrics = ['accuracy'])"
   ]
  },
  {
   "cell_type": "code",
   "execution_count": 105,
   "id": "015fbbbb",
   "metadata": {
    "ExecuteTime": {
     "end_time": "2022-02-10T17:31:06.220568Z",
     "start_time": "2022-02-10T17:30:57.048458Z"
    }
   },
   "outputs": [
    {
     "name": "stdout",
     "output_type": "stream",
     "text": [
      "Epoch 1/3\n",
      "313/313 [==============================] - 4s 10ms/step - loss: 0.5588 - accuracy: 0.6650 - val_loss: 0.3571 - val_accuracy: 0.8498\n",
      "Epoch 2/3\n",
      "313/313 [==============================] - 3s 9ms/step - loss: 0.3109 - accuracy: 0.8724 - val_loss: 0.3147 - val_accuracy: 0.8694\n",
      "Epoch 3/3\n",
      "313/313 [==============================] - 3s 9ms/step - loss: 0.2567 - accuracy: 0.8980 - val_loss: 0.3436 - val_accuracy: 0.8656\n"
     ]
    }
   ],
   "source": [
    "epochs = 3\n",
    "history = model.fit(train_ds, validation_data = val_ds, epochs = epochs)"
   ]
  },
  {
   "cell_type": "code",
   "execution_count": 106,
   "id": "3e016a8c",
   "metadata": {
    "ExecuteTime": {
     "end_time": "2022-02-10T17:31:09.762338Z",
     "start_time": "2022-02-10T17:31:09.598301Z"
    }
   },
   "outputs": [
    {
     "data": {
      "image/png": "[encoded data removed]",
      "text/plain": [
       "<Figure size 432x288 with 1 Axes>"
      ]
     },
     "metadata": {
      "needs_background": "light"
     },
     "output_type": "display_data"
    },
    {
     "data": {
      "image/png": "[encoded data removed]",
      "text/plain": [
       "<Figure size 432x288 with 1 Axes>"
      ]
     },
     "metadata": {
      "needs_background": "light"
     },
     "output_type": "display_data"
    }
   ],
   "source": [
    "## plot accuracy graph\n",
    "plt.plot(history.history['accuracy'])\n",
    "plt.plot(history.history['val_accuracy'])\n",
    "plt.title('Training and Validation accuracy')\n",
    "plt.legend(['accuracy','validation accuracy'])\n",
    "plt.xlabel('Epochs')\n",
    "plt.ylabel('Accuracy')\n",
    "plt.show()\n",
    "\n",
    "## plot loss graph\n",
    "plt.plot(history.history['loss'])\n",
    "plt.plot(history.history['val_loss'])\n",
    "plt.title('Training and Validation loss')\n",
    "plt.legend(['loss','validation loss'])\n",
    "plt.xlabel('Epochs')\n",
    "plt.ylabel('Loss')\n",
    "plt.show()"
   ]
  },
  {
   "cell_type": "code",
   "execution_count": 107,
   "id": "1d31677d",
   "metadata": {
    "ExecuteTime": {
     "end_time": "2022-02-10T17:31:14.614839Z",
     "start_time": "2022-02-10T17:31:13.230520Z"
    }
   },
   "outputs": [
    {
     "name": "stdout",
     "output_type": "stream",
     "text": [
      "391/391 [==============================] - 1s 3ms/step - loss: 0.3201 - accuracy: 0.8724\n"
     ]
    },
    {
     "data": {
      "text/plain": [
       "[0.32010793685913086, 0.872439980506897]"
      ]
     },
     "execution_count": 107,
     "metadata": {},
     "output_type": "execute_result"
    }
   ],
   "source": [
    "model.evaluate(test_ds)"
   ]
  }
 ],
 "metadata": {
  "kernelspec": {
   "display_name": "Python 3 (ipykernel)",
   "language": "python",
   "name": "python3"
  },
  "language_info": {
   "codemirror_mode": {
    "name": "ipython",
    "version": 3
   },
   "file_extension": ".py",
   "mimetype": "text/x-python",
   "name": "python",
   "nbconvert_exporter": "python",
   "pygments_lexer": "ipython3",
   "version": "3.8.8"
  },
  "toc": {
   "base_numbering": 1,
   "nav_menu": {},
   "number_sections": true,
   "sideBar": true,
   "skip_h1_title": false,
   "title_cell": "Table of Contents",
   "title_sidebar": "Contents",
   "toc_cell": false,
   "toc_position": {},
   "toc_section_display": true,
   "toc_window_display": false
  },
  "varInspector": {
   "cols": {
    "lenName": 16,
    "lenType": 16,
    "lenVar": 40
   },
   "kernels_config": {
    "python": {
     "delete_cmd_postfix": "",
     "delete_cmd_prefix": "del ",
     "library": "var_list.py",
     "varRefreshCmd": "print(var_dic_list())"
    },
    "r": {
     "delete_cmd_postfix": ") ",
     "delete_cmd_prefix": "rm(",
     "library": "var_list.r",
     "varRefreshCmd": "cat(var_dic_list()) "
    }
   },
   "types_to_exclude": [
    "module",
    "function",
    "builtin_function_or_method",
    "instance",
    "_Feature"
   ],
   "window_display": false
  }
 },
 "nbformat": 4,
 "nbformat_minor": 5
}
